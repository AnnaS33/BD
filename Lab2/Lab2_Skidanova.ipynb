{
 "cells": [
  {
   "cell_type": "code",
   "execution_count": 44,
   "id": "43225369",
   "metadata": {},
   "outputs": [],
   "source": [
    "import pyspark\n",
    "from pyspark import SparkContext, SparkConf\n",
    "from datetime import datetime"
   ]
  },
  {
   "cell_type": "code",
   "execution_count": 45,
   "id": "0261a523",
   "metadata": {},
   "outputs": [],
   "source": [
    "#это нужно для работы с файлами типа xml\n",
    "from pyspark.sql import SparkSession\n",
    "import os\n",
    "os.environ['PYSPARK_SUBMIT_ARGS'] = '--packages com.databricks:spark-xml_2.12:0.14.0 pyspark-shell'"
   ]
  },
  {
   "cell_type": "code",
   "execution_count": 46,
   "id": "2c3daf31",
   "metadata": {},
   "outputs": [],
   "source": [
    "sc = SparkSession.builder.appName(\"Project2\").master(\"local[*]\").getOrCreate()"
   ]
  },
  {
   "cell_type": "code",
   "execution_count": null,
   "id": "91866ff2",
   "metadata": {},
   "outputs": [],
   "source": []
  },
  {
   "cell_type": "code",
   "execution_count": 47,
   "id": "17c6eb04",
   "metadata": {},
   "outputs": [
    {
     "data": {
      "text/plain": [
       "['name',\n",
       " 'A# .NET',\n",
       " 'A# (Axiom)',\n",
       " 'A-0 System',\n",
       " 'A+',\n",
       " 'A++',\n",
       " 'ABAP',\n",
       " 'ABC',\n",
       " 'ABC ALGOL',\n",
       " 'ABSET']"
      ]
     },
     "execution_count": 47,
     "metadata": {},
     "output_type": "execute_result"
    }
   ],
   "source": [
    "from pyspark.sql.types import StructType,StructField,IntegerType,StringType\n",
    "\n",
    "#Считываем названия языков программирования\n",
    "prog_languages = sc.read.csv(\"/mnt/data/programming-languages.csv\")\n",
    "\n",
    "#Создаём из названий список, так удобнее\n",
    "prog_lang_name=[]\n",
    "for x in prog_languages.collect():\n",
    "    prog_lang_name.append(str(x[0]))\n",
    "prog_lang_name[0:10]"
   ]
  },
  {
   "cell_type": "code",
   "execution_count": 48,
   "id": "dcc79d50",
   "metadata": {},
   "outputs": [],
   "source": [
    "#Считываем данные, которые нужно будет анализировать, выбираем row, который будет интепретироваться как строка в Spark\n",
    "PSample = sc.read.format('xml').option('rowTag', 'row').load(\"/mnt/data/posts_sample.xml\")"
   ]
  },
  {
   "cell_type": "code",
   "execution_count": 49,
   "id": "321e4750",
   "metadata": {},
   "outputs": [
    {
     "data": {
      "text/plain": [
       "Row(_AcceptedAnswerId=7, _AnswerCount=13, _Body=\"<p>I want to use a track-bar to change a form's opacity.</p>\\n\\n<p>This is my code:</p>\\n\\n<pre><code>decimal trans = trackBar1.Value / 5000;\\nthis.Opacity = trans;\\n</code></pre>\\n\\n<p>When I build the application, it gives the following error:</p>\\n\\n<blockquote>\\n  <p>Cannot implicitly convert type <code>'decimal'</code> to <code>'double'</code></p>\\n</blockquote>\\n\\n<p>I tried using <code>trans</code> and <code>double</code> but then the control doesn't work. This code worked fine in a past VB.NET project.</p>\\n\", _ClosedDate=None, _CommentCount=2, _CommunityOwnedDate=datetime.datetime(2012, 10, 31, 16, 42, 47, 213000), _CreationDate=datetime.datetime(2008, 7, 31, 21, 42, 52, 667000), _FavoriteCount=48, _Id=4, _LastActivityDate=datetime.datetime(2019, 7, 19, 1, 39, 54, 173000), _LastEditDate=datetime.datetime(2019, 7, 19, 1, 39, 54, 173000), _LastEditorDisplayName='Rich B', _LastEditorUserId=3641067, _OwnerDisplayName=None, _OwnerUserId=8, _ParentId=None, _PostTypeId=1, _Score=630, _Tags='<c#><floating-point><type-conversion><double><decimal>', _Title='Convert Decimal to Double?', _ViewCount=42817)"
      ]
     },
     "execution_count": 49,
     "metadata": {},
     "output_type": "execute_result"
    }
   ],
   "source": [
    "PSample.first()"
   ]
  },
  {
   "cell_type": "code",
   "execution_count": null,
   "id": "ff67907e",
   "metadata": {},
   "outputs": [],
   "source": []
  },
  {
   "cell_type": "code",
   "execution_count": 50,
   "id": "53331690",
   "metadata": {},
   "outputs": [
    {
     "data": {
      "text/plain": [
       "[Row(_AcceptedAnswerId=7, _AnswerCount=13, _Body=\"<p>I want to use a track-bar to change a form's opacity.</p>\\n\\n<p>This is my code:</p>\\n\\n<pre><code>decimal trans = trackBar1.Value / 5000;\\nthis.Opacity = trans;\\n</code></pre>\\n\\n<p>When I build the application, it gives the following error:</p>\\n\\n<blockquote>\\n  <p>Cannot implicitly convert type <code>'decimal'</code> to <code>'double'</code></p>\\n</blockquote>\\n\\n<p>I tried using <code>trans</code> and <code>double</code> but then the control doesn't work. This code worked fine in a past VB.NET project.</p>\\n\", _ClosedDate=None, _CommentCount=2, _CommunityOwnedDate=datetime.datetime(2012, 10, 31, 16, 42, 47, 213000), _CreationDate=datetime.datetime(2008, 7, 31, 21, 42, 52, 667000), _FavoriteCount=48, _Id=4, _LastActivityDate=datetime.datetime(2019, 7, 19, 1, 39, 54, 173000), _LastEditDate=datetime.datetime(2019, 7, 19, 1, 39, 54, 173000), _LastEditorDisplayName='Rich B', _LastEditorUserId=3641067, _OwnerDisplayName=None, _OwnerUserId=8, _ParentId=None, _PostTypeId=1, _Score=630, _Tags='<c#><floating-point><type-conversion><double><decimal>', _Title='Convert Decimal to Double?', _ViewCount=42817)]"
      ]
     },
     "execution_count": 50,
     "metadata": {},
     "output_type": "execute_result"
    }
   ],
   "source": [
    "#переходим к rdd потому,что так мне удобнее и привычнее работать\n",
    "\n",
    "PS_RDD=PSample.rdd\n",
    "PS_RDD.take(1)"
   ]
  },
  {
   "cell_type": "code",
   "execution_count": 51,
   "id": "afb14dc7",
   "metadata": {},
   "outputs": [],
   "source": [
    "#Что бы найти самые популярные языки по годам, будем считать сколько раз они упоминались в тегах\n",
    "#Для начала исключим года выходящие за установленные рамки ([2010-2020])\n",
    "#Для этого пишем метод checking_the_date\n",
    "def checking_the_date(row):\n",
    "    created_date = row._CreationDate.year\n",
    "    return 2010 >= created_date and created_date <= 2020"
   ]
  },
  {
   "cell_type": "code",
   "execution_count": 52,
   "id": "34f9d4e1",
   "metadata": {},
   "outputs": [],
   "source": [
    "#Будем последовательно совершать все необходимые шаги\n",
    "#Исключаем года выходящие за рамки\n",
    "d2=PS_RDD.filter(lambda row: checking_the_date(row))"
   ]
  },
  {
   "cell_type": "code",
   "execution_count": 54,
   "id": "9b20aacb",
   "metadata": {},
   "outputs": [
    {
     "data": {
      "text/plain": [
       "[Row(_AcceptedAnswerId=7, _AnswerCount=13, _Body=\"<p>I want to use a track-bar to change a form's opacity.</p>\\n\\n<p>This is my code:</p>\\n\\n<pre><code>decimal trans = trackBar1.Value / 5000;\\nthis.Opacity = trans;\\n</code></pre>\\n\\n<p>When I build the application, it gives the following error:</p>\\n\\n<blockquote>\\n  <p>Cannot implicitly convert type <code>'decimal'</code> to <code>'double'</code></p>\\n</blockquote>\\n\\n<p>I tried using <code>trans</code> and <code>double</code> but then the control doesn't work. This code worked fine in a past VB.NET project.</p>\\n\", _ClosedDate=None, _CommentCount=2, _CommunityOwnedDate=datetime.datetime(2012, 10, 31, 16, 42, 47, 213000), _CreationDate=datetime.datetime(2008, 7, 31, 21, 42, 52, 667000), _FavoriteCount=48, _Id=4, _LastActivityDate=datetime.datetime(2019, 7, 19, 1, 39, 54, 173000), _LastEditDate=datetime.datetime(2019, 7, 19, 1, 39, 54, 173000), _LastEditorDisplayName='Rich B', _LastEditorUserId=3641067, _OwnerDisplayName=None, _OwnerUserId=8, _ParentId=None, _PostTypeId=1, _Score=630, _Tags='<c#><floating-point><type-conversion><double><decimal>', _Title='Convert Decimal to Double?', _ViewCount=42817),\n",
       " Row(_AcceptedAnswerId=31, _AnswerCount=6, _Body=\"<p>I have an absolutely positioned <code>div</code> containing several children, one of which is a relatively positioned <code>div</code>. When I use a <code>percentage-based width</code> on the child <code>div</code>, it collapses to <code>0 width</code> on IE7, but not on Firefox or Safari.</p>\\n\\n<p>If I use <code>pixel width</code>, it works. If the parent is relatively positioned, the percentage width on the child works.</p>\\n\\n<ol>\\n<li>Is there something I'm missing here?</li>\\n<li>Is there an easy fix for this besides the <code>pixel-based width</code> on the\\nchild?</li>\\n<li>Is there an area of the CSS specification that covers this?</li>\\n</ol>\\n\", _ClosedDate=None, _CommentCount=0, _CommunityOwnedDate=None, _CreationDate=datetime.datetime(2008, 7, 31, 22, 8, 8, 620000), _FavoriteCount=10, _Id=6, _LastActivityDate=datetime.datetime(2019, 7, 19, 1, 43, 4, 77000), _LastEditDate=datetime.datetime(2019, 7, 19, 1, 43, 4, 77000), _LastEditorDisplayName='Rich B', _LastEditorUserId=3641067, _OwnerDisplayName=None, _OwnerUserId=9, _ParentId=None, _PostTypeId=1, _Score=281, _Tags='<html><css><internet-explorer-7>', _Title='Percentage width child element in absolutely positioned parent on Internet Explorer 7', _ViewCount=18214),\n",
       " Row(_AcceptedAnswerId=None, _AnswerCount=None, _Body=\"<p>An explicit cast to double like this isn't necessary:</p>\\n\\n<pre><code>double trans = (double) trackBar1.Value / 5000.0;\\n</code></pre>\\n\\n<p>Identifying the constant as <code>5000.0</code> (or as <code>5000d</code>) is sufficient:</p>\\n\\n<pre><code>double trans = trackBar1.Value / 5000.0;\\ndouble trans = trackBar1.Value / 5000d;\\n</code></pre>\\n\", _ClosedDate=None, _CommentCount=0, _CommunityOwnedDate=None, _CreationDate=datetime.datetime(2008, 7, 31, 22, 17, 57, 883000), _FavoriteCount=None, _Id=7, _LastActivityDate=datetime.datetime(2017, 12, 16, 5, 6, 57, 613000), _LastEditDate=datetime.datetime(2017, 12, 16, 5, 6, 57, 613000), _LastEditorDisplayName=None, _LastEditorUserId=4020527, _OwnerDisplayName=None, _OwnerUserId=9, _ParentId=4, _PostTypeId=2, _Score=425, _Tags=None, _Title=None, _ViewCount=None)]"
      ]
     },
     "execution_count": 54,
     "metadata": {},
     "output_type": "execute_result"
    }
   ],
   "source": [
    "d2.take(3)"
   ]
  },
  {
   "cell_type": "code",
   "execution_count": 55,
   "id": "ced27c05",
   "metadata": {},
   "outputs": [],
   "source": [
    "#метод для проверки тегов на наличие в них названия языка\n",
    "def search_program_language(row):\n",
    "    tags_lan=None\n",
    "    for n in prog_lang_name:\n",
    "        if ('<' + n.lower() + '>') in str(row._Tags).lower():\n",
    "            tags_lan = n\n",
    "            break\n",
    "    if tags_lan is None:\n",
    "        return (row[6], 'nothing')\n",
    "    return (row[6], tags_lan)\n",
    "    "
   ]
  },
  {
   "cell_type": "code",
   "execution_count": 56,
   "id": "94ef4786",
   "metadata": {},
   "outputs": [],
   "source": [
    "#Отмечаем где есть и где нету упоминаний о названии языка в тегах \n",
    "d3=d2.map(search_program_language)"
   ]
  },
  {
   "cell_type": "code",
   "execution_count": 57,
   "id": "13379653",
   "metadata": {},
   "outputs": [
    {
     "data": {
      "text/plain": [
       "[(datetime.datetime(2008, 7, 31, 21, 42, 52, 667000), 'nothing'),\n",
       " (datetime.datetime(2008, 7, 31, 22, 8, 8, 620000), 'nothing'),\n",
       " (datetime.datetime(2008, 7, 31, 22, 17, 57, 883000), 'nothing'),\n",
       " (datetime.datetime(2008, 7, 31, 23, 40, 59, 743000), 'nothing'),\n",
       " (datetime.datetime(2008, 7, 31, 23, 55, 37, 967000), 'nothing')]"
      ]
     },
     "execution_count": 57,
     "metadata": {},
     "output_type": "execute_result"
    }
   ],
   "source": [
    "d3.take(5)"
   ]
  },
  {
   "cell_type": "code",
   "execution_count": 58,
   "id": "2c96c27a",
   "metadata": {},
   "outputs": [],
   "source": [
    "#Отсеиваем те, где в тэгах не упоминается название языка\n",
    "d4=d3.filter(lambda row: row[1]!='nothing')"
   ]
  },
  {
   "cell_type": "code",
   "execution_count": 59,
   "id": "7bac66c9",
   "metadata": {},
   "outputs": [
    {
     "data": {
      "text/plain": [
       "[(datetime.datetime(2010, 9, 23, 12, 13, 59, 443000), 'Java'),\n",
       " (datetime.datetime(2010, 9, 26, 17, 7, 4, 840000), 'PHP'),\n",
       " (datetime.datetime(2010, 9, 30, 18, 27, 56, 320000), 'Ruby'),\n",
       " (datetime.datetime(2010, 10, 1, 11, 52, 42, 210000), 'C'),\n",
       " (datetime.datetime(2010, 10, 4, 21, 5, 50, 150000), 'PHP')]"
      ]
     },
     "execution_count": 59,
     "metadata": {},
     "output_type": "execute_result"
    }
   ],
   "source": [
    "d4.take(5)"
   ]
  },
  {
   "cell_type": "code",
   "execution_count": 60,
   "id": "d7d6855f",
   "metadata": {},
   "outputs": [],
   "source": [
    "#группируем по году и названию. А затем считаем количество упоминаний\n",
    "d5=d4.keyBy(lambda row: (row[0].year,row[1])).aggregateByKey(\n",
    "        0,\n",
    "        lambda acc, value: acc + 1,\n",
    "        lambda acc1, acc2: acc1 + acc2,\n",
    "    )"
   ]
  },
  {
   "cell_type": "code",
   "execution_count": 61,
   "id": "2cdb6f0d",
   "metadata": {},
   "outputs": [
    {
     "data": {
      "text/plain": [
       "[((2010, 'Python'), 25),\n",
       " ((2010, 'JavaScript'), 44),\n",
       " ((2010, 'R'), 3),\n",
       " ((2010, 'Delphi'), 7),\n",
       " ((2010, 'Perl'), 3)]"
      ]
     },
     "execution_count": 61,
     "metadata": {},
     "output_type": "execute_result"
    }
   ],
   "source": [
    "d5.take(5)"
   ]
  },
  {
   "cell_type": "code",
   "execution_count": 62,
   "id": "2002f044",
   "metadata": {},
   "outputs": [],
   "source": [
    "#Сортируем по убыванию количества упоминаний\n",
    "d6=d5.sortBy(lambda row: row[1], ascending=False)"
   ]
  },
  {
   "cell_type": "code",
   "execution_count": 63,
   "id": "f2abdab3",
   "metadata": {},
   "outputs": [
    {
     "data": {
      "text/plain": [
       "[((2010, 'Java'), 52),\n",
       " ((2010, 'JavaScript'), 44),\n",
       " ((2010, 'PHP'), 42),\n",
       " ((2009, 'Java'), 28),\n",
       " ((2010, 'Python'), 25),\n",
       " ((2010, 'Objective-C'), 23),\n",
       " ((2009, 'PHP'), 22),\n",
       " ((2009, 'Python'), 22),\n",
       " ((2010, 'C'), 20),\n",
       " ((2009, 'JavaScript'), 12)]"
      ]
     },
     "execution_count": 63,
     "metadata": {},
     "output_type": "execute_result"
    }
   ],
   "source": [
    "d6.take(10)"
   ]
  },
  {
   "cell_type": "code",
   "execution_count": 64,
   "id": "6465bf6d",
   "metadata": {},
   "outputs": [
    {
     "data": {
      "text/plain": [
       "[((2010, 'Java'), 52),\n",
       " ((2010, 'JavaScript'), 44),\n",
       " ((2010, 'PHP'), 42),\n",
       " ((2010, 'Python'), 25),\n",
       " ((2010, 'Objective-C'), 23),\n",
       " ((2010, 'C'), 20),\n",
       " ((2010, 'Ruby'), 11),\n",
       " ((2010, 'Delphi'), 7),\n",
       " ((2010, 'R'), 3),\n",
       " ((2010, 'Perl'), 3)]"
      ]
     },
     "execution_count": 64,
     "metadata": {},
     "output_type": "execute_result"
    }
   ],
   "source": [
    "#Сортируем по годам\n",
    "d7=d6.sortBy(lambda row: row[0][0], ascending=False)\n",
    "d7.take(10)"
   ]
  },
  {
   "cell_type": "code",
   "execution_count": null,
   "id": "d9a2e512",
   "metadata": {},
   "outputs": [],
   "source": []
  },
  {
   "cell_type": "code",
   "execution_count": 65,
   "id": "416d6df1",
   "metadata": {},
   "outputs": [
    {
     "data": {
      "text/plain": [
       "[[2010, 'Java', 52, 1],\n",
       " [2010, 'JavaScript', 44, 2],\n",
       " [2010, 'PHP', 42, 3],\n",
       " [2010, 'Python', 25, 4],\n",
       " [2010, 'Objective-C', 23, 5],\n",
       " [2010, 'C', 20, 6],\n",
       " [2010, 'Ruby', 11, 7],\n",
       " [2010, 'Delphi', 7, 8],\n",
       " [2010, 'R', 3, 9],\n",
       " [2010, 'Perl', 3, 10]]"
      ]
     },
     "execution_count": 65,
     "metadata": {},
     "output_type": "execute_result"
    }
   ],
   "source": [
    "#Теперь я хочу избавиться от сдвоенного ключа, и добавить столбец с удобной нумерацией,\n",
    "#которая для каждого года начинается с начала\n",
    "#Поэтому подготовлю данные и потом создам новый DataFrame\n",
    "prname=[]\n",
    "prname2=[]\n",
    "prname3=[]\n",
    "prname4=[]\n",
    "\n",
    "tsr=100000\n",
    "k=1\n",
    "\n",
    "for x in d7.collect():\n",
    "    prname.append(x[0])\n",
    "    prname3.append(int(x[1]))\n",
    "\n",
    "for x in prname:\n",
    "    prname2.append([x[0],x[1]])\n",
    "    \n",
    "for x1 in range(0,len(prname)-1):\n",
    "    t=prname3[x1]\n",
    "    if(tsr<t):\n",
    "        k=1\n",
    "    prname4.append([prname2[x1][0],prname2[x1][1],t,int(k)])\n",
    "    tsr=t\n",
    "    k=k+1\n",
    "prname4[0:10]"
   ]
  },
  {
   "cell_type": "code",
   "execution_count": null,
   "id": "7ec4882d",
   "metadata": {},
   "outputs": [],
   "source": []
  },
  {
   "cell_type": "code",
   "execution_count": 66,
   "id": "d401618f",
   "metadata": {},
   "outputs": [],
   "source": [
    "#создаем новый DataFrame\n",
    "from pyspark.sql import Row\n",
    "R = Row('Year','Name','Count','Number')\n",
    "new_DF=sc.createDataFrame([R(i,x,y,z) for i,x,y,z in (prname4)])\n"
   ]
  },
  {
   "cell_type": "code",
   "execution_count": 67,
   "id": "07da36fc",
   "metadata": {},
   "outputs": [
    {
     "name": "stdout",
     "output_type": "stream",
     "text": [
      "+----+------------+-----+------+\n",
      "|Year|        Name|Count|Number|\n",
      "+----+------------+-----+------+\n",
      "|2010|        Java|   52|     1|\n",
      "|2010|  JavaScript|   44|     2|\n",
      "|2010|         PHP|   42|     3|\n",
      "|2010|      Python|   25|     4|\n",
      "|2010| Objective-C|   23|     5|\n",
      "|2010|           C|   20|     6|\n",
      "|2010|        Ruby|   11|     7|\n",
      "|2010|      Delphi|    7|     8|\n",
      "|2010|           R|    3|     9|\n",
      "|2010|        Perl|    3|    10|\n",
      "|2010| AppleScript|    3|    11|\n",
      "|2010|        Bash|    3|    12|\n",
      "|2010|     Haskell|    2|    13|\n",
      "|2010|          F#|    2|    14|\n",
      "|2010|  PowerShell|    1|    15|\n",
      "|2010|       Mouse|    1|    16|\n",
      "|2010|       XPath|    1|    17|\n",
      "|2010|       OCaml|    1|    18|\n",
      "|2010|ActionScript|    1|    19|\n",
      "|2010|         ksh|    1|    20|\n",
      "|2010|         Sed|    1|    21|\n",
      "|2010|      MATLAB|    1|    22|\n",
      "|2010|       BASIC|    1|    23|\n",
      "|2010|          Go|    1|    24|\n",
      "|2010|      Racket|    1|    25|\n",
      "|2010|       dBase|    1|    26|\n",
      "|2009|        Java|   28|     1|\n",
      "|2009|         PHP|   22|     2|\n",
      "|2009|      Python|   22|     3|\n",
      "|2009|  JavaScript|   12|     4|\n",
      "|2009|      Delphi|    7|     5|\n",
      "|2009|        Ruby|    7|     6|\n",
      "|2009|           C|    6|     7|\n",
      "|2009| Objective-C|    5|     8|\n",
      "|2009|     Haskell|    4|     9|\n",
      "|2009|        Bash|    3|    10|\n",
      "|2009|ActionScript|    2|    11|\n",
      "|2009|          Id|    1|    12|\n",
      "|2009|      MATLAB|    1|    13|\n",
      "|2009|  PowerShell|    1|    14|\n",
      "+----+------------+-----+------+\n",
      "only showing top 40 rows\n",
      "\n"
     ]
    }
   ],
   "source": [
    "#Выводим чтобы полюбоваться на то, что уже есть\n",
    "new_DF.show(40)"
   ]
  },
  {
   "cell_type": "code",
   "execution_count": null,
   "id": "60e15011",
   "metadata": {},
   "outputs": [],
   "source": []
  },
  {
   "cell_type": "code",
   "execution_count": 68,
   "id": "d84dc6ac",
   "metadata": {},
   "outputs": [],
   "source": [
    "#Записываем в .parquet, чтобы потом открыть но уже sql\n",
    "new_DF.write.parquet(\"Lang.parquet\")"
   ]
  },
  {
   "cell_type": "code",
   "execution_count": 69,
   "id": "0776688f",
   "metadata": {},
   "outputs": [],
   "source": [
    "#Считываем обратно\n",
    "Table = sc.read.parquet(\"Lang.parquet\")"
   ]
  },
  {
   "cell_type": "code",
   "execution_count": 70,
   "id": "944e166e",
   "metadata": {},
   "outputs": [
    {
     "name": "stdout",
     "output_type": "stream",
     "text": [
      "+----+-----------+-----+\n",
      "|Year|       Name|Count|\n",
      "+----+-----------+-----+\n",
      "|2008|       Java|    4|\n",
      "|2008|       Ruby|    3|\n",
      "|2008| JavaScript|    2|\n",
      "|2008|          C|    2|\n",
      "|2008|     Groovy|    1|\n",
      "|2008|        X++|    1|\n",
      "|2008|         Io|    1|\n",
      "|2008|        PHP|    1|\n",
      "|2009|       Java|   28|\n",
      "|2009|        PHP|   22|\n",
      "|2009|     Python|   22|\n",
      "|2009| JavaScript|   12|\n",
      "|2009|     Delphi|    7|\n",
      "|2009|       Ruby|    7|\n",
      "|2009|          C|    6|\n",
      "|2009|Objective-C|    5|\n",
      "|2009|    Haskell|    4|\n",
      "|2009|       Bash|    3|\n",
      "|2010|       Ruby|   11|\n",
      "|2010|     Delphi|    7|\n",
      "|2010|          R|    3|\n",
      "|2010|       Perl|    3|\n",
      "|2010|       Java|   52|\n",
      "|2010| JavaScript|   44|\n",
      "|2010|        PHP|   42|\n",
      "|2010|     Python|   25|\n",
      "|2010|Objective-C|   23|\n",
      "|2010|          C|   20|\n",
      "+----+-----------+-----+\n",
      "\n"
     ]
    }
   ],
   "source": [
    "#Выбираем топ 10 языков для каждого года\n",
    "Table.createOrReplaceTempView(\"Table\")\n",
    "top_10 = sc.sql(\"SELECT Year,Name,Count FROM Table WHERE Number<=10 \")\n",
    "top_10.show(top_10.count())"
   ]
  },
  {
   "cell_type": "code",
   "execution_count": 71,
   "id": "6531217b",
   "metadata": {},
   "outputs": [],
   "source": [
    "#И сохраняем отчёт в формате Apache Parquet.\n",
    "top_10.write.parquet(\"top_10_lang.parquet\")"
   ]
  },
  {
   "cell_type": "code",
   "execution_count": null,
   "id": "85268668",
   "metadata": {},
   "outputs": [],
   "source": []
  }
 ],
 "metadata": {
  "kernelspec": {
   "display_name": "Python 3",
   "language": "python",
   "name": "python3"
  },
  "language_info": {
   "codemirror_mode": {
    "name": "ipython",
    "version": 3
   },
   "file_extension": ".py",
   "mimetype": "text/x-python",
   "name": "python",
   "nbconvert_exporter": "python",
   "pygments_lexer": "ipython3",
   "version": "3.6.9"
  }
 },
 "nbformat": 4,
 "nbformat_minor": 5
}
