{
 "cells": [
  {
   "cell_type": "code",
   "execution_count": 1,
   "id": "43225369",
   "metadata": {},
   "outputs": [],
   "source": [
    "import pyspark\n",
    "from pyspark import SparkContext, SparkConf\n",
    "from datetime import datetime"
   ]
  },
  {
   "cell_type": "code",
   "execution_count": 2,
   "id": "0261a523",
   "metadata": {},
   "outputs": [],
   "source": [
    "#это нужно для работы с файлами типа xml\n",
    "from pyspark.sql import SparkSession\n",
    "import os\n",
    "os.environ['PYSPARK_SUBMIT_ARGS'] = '--packages com.databricks:spark-xml_2.12:0.14.0 pyspark-shell'"
   ]
  },
  {
   "cell_type": "code",
   "execution_count": 3,
   "id": "2c3daf31",
   "metadata": {},
   "outputs": [
    {
     "name": "stderr",
     "output_type": "stream",
     "text": [
      "/usr/local/lib/python3.6/dist-packages/pyspark/context.py:238: FutureWarning: Python 3.6 support is deprecated in Spark 3.2.\n",
      "  FutureWarning\n"
     ]
    }
   ],
   "source": [
    "sc = SparkSession.builder.appName(\"Project2\").master(\"local[*]\").getOrCreate()"
   ]
  },
  {
   "cell_type": "code",
   "execution_count": null,
   "id": "91866ff2",
   "metadata": {},
   "outputs": [],
   "source": []
  },
  {
   "cell_type": "code",
   "execution_count": 4,
   "id": "17c6eb04",
   "metadata": {},
   "outputs": [
    {
     "data": {
      "text/plain": [
       "['name',\n",
       " 'A# .NET',\n",
       " 'A# (Axiom)',\n",
       " 'A-0 System',\n",
       " 'A+',\n",
       " 'A++',\n",
       " 'ABAP',\n",
       " 'ABC',\n",
       " 'ABC ALGOL',\n",
       " 'ABSET']"
      ]
     },
     "execution_count": 4,
     "metadata": {},
     "output_type": "execute_result"
    }
   ],
   "source": [
    "from pyspark.sql.types import StructType,StructField,IntegerType,StringType\n",
    "\n",
    "#Считываем названия языков программирования\n",
    "prog_languages = sc.read.csv(\"/mnt/data/programming-languages.csv\")\n",
    "\n",
    "#Создаём из названий список, так удобнее\n",
    "prog_lang_name=[]\n",
    "for x in prog_languages.collect():\n",
    "    prog_lang_name.append(str(x[0]))\n",
    "prog_lang_name[0:10]"
   ]
  },
  {
   "cell_type": "code",
   "execution_count": 5,
   "id": "dcc79d50",
   "metadata": {},
   "outputs": [],
   "source": [
    "#Считываем данные, которые нужно будет анализировать, выбираем row, который будет интепретироваться как строка в Spark\n",
    "PSample = sc.read.format('xml').option('rowTag', 'row').load(\"/mnt/data/posts_sample.xml\")"
   ]
  },
  {
   "cell_type": "code",
   "execution_count": 6,
   "id": "321e4750",
   "metadata": {},
   "outputs": [
    {
     "data": {
      "text/plain": [
       "Row(_AcceptedAnswerId=7, _AnswerCount=13, _Body=\"<p>I want to use a track-bar to change a form's opacity.</p>\\n\\n<p>This is my code:</p>\\n\\n<pre><code>decimal trans = trackBar1.Value / 5000;\\nthis.Opacity = trans;\\n</code></pre>\\n\\n<p>When I build the application, it gives the following error:</p>\\n\\n<blockquote>\\n  <p>Cannot implicitly convert type <code>'decimal'</code> to <code>'double'</code></p>\\n</blockquote>\\n\\n<p>I tried using <code>trans</code> and <code>double</code> but then the control doesn't work. This code worked fine in a past VB.NET project.</p>\\n\", _ClosedDate=None, _CommentCount=2, _CommunityOwnedDate=datetime.datetime(2012, 10, 31, 16, 42, 47, 213000), _CreationDate=datetime.datetime(2008, 7, 31, 21, 42, 52, 667000), _FavoriteCount=48, _Id=4, _LastActivityDate=datetime.datetime(2019, 7, 19, 1, 39, 54, 173000), _LastEditDate=datetime.datetime(2019, 7, 19, 1, 39, 54, 173000), _LastEditorDisplayName='Rich B', _LastEditorUserId=3641067, _OwnerDisplayName=None, _OwnerUserId=8, _ParentId=None, _PostTypeId=1, _Score=630, _Tags='<c#><floating-point><type-conversion><double><decimal>', _Title='Convert Decimal to Double?', _ViewCount=42817)"
      ]
     },
     "execution_count": 6,
     "metadata": {},
     "output_type": "execute_result"
    }
   ],
   "source": [
    "PSample.first()"
   ]
  },
  {
   "cell_type": "code",
   "execution_count": null,
   "id": "ff67907e",
   "metadata": {},
   "outputs": [],
   "source": []
  },
  {
   "cell_type": "code",
   "execution_count": 7,
   "id": "53331690",
   "metadata": {},
   "outputs": [
    {
     "data": {
      "text/plain": [
       "[Row(_AcceptedAnswerId=7, _AnswerCount=13, _Body=\"<p>I want to use a track-bar to change a form's opacity.</p>\\n\\n<p>This is my code:</p>\\n\\n<pre><code>decimal trans = trackBar1.Value / 5000;\\nthis.Opacity = trans;\\n</code></pre>\\n\\n<p>When I build the application, it gives the following error:</p>\\n\\n<blockquote>\\n  <p>Cannot implicitly convert type <code>'decimal'</code> to <code>'double'</code></p>\\n</blockquote>\\n\\n<p>I tried using <code>trans</code> and <code>double</code> but then the control doesn't work. This code worked fine in a past VB.NET project.</p>\\n\", _ClosedDate=None, _CommentCount=2, _CommunityOwnedDate=datetime.datetime(2012, 10, 31, 16, 42, 47, 213000), _CreationDate=datetime.datetime(2008, 7, 31, 21, 42, 52, 667000), _FavoriteCount=48, _Id=4, _LastActivityDate=datetime.datetime(2019, 7, 19, 1, 39, 54, 173000), _LastEditDate=datetime.datetime(2019, 7, 19, 1, 39, 54, 173000), _LastEditorDisplayName='Rich B', _LastEditorUserId=3641067, _OwnerDisplayName=None, _OwnerUserId=8, _ParentId=None, _PostTypeId=1, _Score=630, _Tags='<c#><floating-point><type-conversion><double><decimal>', _Title='Convert Decimal to Double?', _ViewCount=42817)]"
      ]
     },
     "execution_count": 7,
     "metadata": {},
     "output_type": "execute_result"
    }
   ],
   "source": [
    "#переходим к rdd потому,что так мне удобнее и привычнее работать\n",
    "\n",
    "PS_RDD=PSample.rdd\n",
    "PS_RDD.take(1)"
   ]
  },
  {
   "cell_type": "code",
   "execution_count": 8,
   "id": "c69e7d26",
   "metadata": {},
   "outputs": [],
   "source": [
    "#Что бы найти самые популярные языки по годам, будем считать сколько раз они упоминались в тегах\n",
    "#Для начала исключим года выходящие за установленные рамки ([2010-2020])\n",
    "#Для этого пишем метод checking_the_date\n",
    "def checking_the_date(row):\n",
    "    return 2009 < row._CreationDate.year and row._CreationDate.year < 2021"
   ]
  },
  {
   "cell_type": "code",
   "execution_count": null,
   "id": "afb14dc7",
   "metadata": {},
   "outputs": [],
   "source": []
  },
  {
   "cell_type": "code",
   "execution_count": 9,
   "id": "34f9d4e1",
   "metadata": {},
   "outputs": [],
   "source": [
    "#Будем последовательно совершать все необходимые шаги\n",
    "#Исключаем года выходящие за рамки\n",
    "d2=PS_RDD.filter(lambda row: checking_the_date(row))"
   ]
  },
  {
   "cell_type": "code",
   "execution_count": 10,
   "id": "9b20aacb",
   "metadata": {},
   "outputs": [
    {
     "data": {
      "text/plain": [
       "[Row(_AcceptedAnswerId=None, _AnswerCount=None, _Body='<p>No. (And more stuff to round this up to 15 characters...)</p>\\n', _ClosedDate=None, _CommentCount=6, _CommunityOwnedDate=None, _CreationDate=datetime.datetime(2010, 9, 20, 16, 18, 14, 580000), _FavoriteCount=None, _Id=3753373, _LastActivityDate=datetime.datetime(2010, 9, 20, 16, 18, 14, 580000), _LastEditDate=None, _LastEditorDisplayName=None, _LastEditorUserId=None, _OwnerDisplayName=None, _OwnerUserId=10293, _ParentId=3753364, _PostTypeId=2, _Score=13, _Tags=None, _Title=None, _ViewCount=None),\n",
       " Row(_AcceptedAnswerId=None, _AnswerCount=None, _Body='<p>I am not aware of a way to use the URL parameters the way you have indicated. If anyone knows better, do correct me.</p>\\n\\n<p>I faced a similar situation some time ago and made do with a thin wrapper over the <code>list_detail</code> view. </p>\\n\\n<pre><code># views.py\\nfrom django.views.generic.list_detail import object_list\\n\\ndef object_list_wrapper(*args, **kwargs):\\n    category = kwargs.pop(\\'category\\')\\n    queryset = Post.objects.filter(category = category)\\n    kwargs[\\'queryset\\'] = queryset\\n    return object_list(*args, **kwargs)\\n\\n#urls.py\\nurlpatterns = patterns(\\'myapp.views\\',\\n    url(r\\'^$\\', \\'object_list_wrapper\\', {}, name=\"postRoot\"),        \\n...\\n</code></pre>\\n', _ClosedDate=None, _CommentCount=2, _CommunityOwnedDate=None, _CreationDate=datetime.datetime(2010, 9, 20, 18, 36, 28, 23000), _FavoriteCount=None, _Id=3754384, _LastActivityDate=datetime.datetime(2010, 9, 20, 18, 43, 25, 493000), _LastEditDate=datetime.datetime(2010, 9, 20, 18, 43, 25, 493000), _LastEditorDisplayName=None, _LastEditorUserId=140185, _OwnerDisplayName=None, _OwnerUserId=140185, _ParentId=3754279, _PostTypeId=2, _Score=2, _Tags=None, _Title=None, _ViewCount=None),\n",
       " Row(_AcceptedAnswerId=None, _AnswerCount=None, _Body='<p>If you want a quick solution without delving too much and using a wrapper, <a href=\"http://jsmooth.sourceforge.net/\" rel=\"nofollow noreferrer\">Jsmooth</a> does its job well.</p>\\n', _ClosedDate=None, _CommentCount=2, _CommunityOwnedDate=None, _CreationDate=datetime.datetime(2010, 9, 20, 19, 4, 13, 587000), _FavoriteCount=None, _Id=3754601, _LastActivityDate=datetime.datetime(2010, 9, 20, 19, 4, 13, 587000), _LastEditDate=None, _LastEditorDisplayName=None, _LastEditorUserId=None, _OwnerDisplayName=None, _OwnerUserId=7280, _ParentId=3754553, _PostTypeId=2, _Score=1, _Tags=None, _Title=None, _ViewCount=None)]"
      ]
     },
     "execution_count": 10,
     "metadata": {},
     "output_type": "execute_result"
    }
   ],
   "source": [
    "d2.take(3)"
   ]
  },
  {
   "cell_type": "code",
   "execution_count": 11,
   "id": "ced27c05",
   "metadata": {},
   "outputs": [],
   "source": [
    "#метод для проверки тегов на наличие в них названия языка\n",
    "def search_program_language(row):\n",
    "    tags_lan=None\n",
    "    for n in prog_lang_name:\n",
    "        if ('<' + n.lower() + '>') in str(row._Tags).lower():\n",
    "            tags_lan = n\n",
    "            break\n",
    "    if tags_lan is None:\n",
    "        return (row[6], 'nothing')\n",
    "    return (row[6], tags_lan)\n",
    "    "
   ]
  },
  {
   "cell_type": "code",
   "execution_count": 12,
   "id": "94ef4786",
   "metadata": {},
   "outputs": [],
   "source": [
    "#Отмечаем где есть и где нету упоминаний о названии языка в тегах \n",
    "d3=d2.map(search_program_language)"
   ]
  },
  {
   "cell_type": "code",
   "execution_count": 13,
   "id": "13379653",
   "metadata": {},
   "outputs": [
    {
     "data": {
      "text/plain": [
       "[(datetime.datetime(2010, 9, 20, 16, 18, 14, 580000), 'nothing'),\n",
       " (datetime.datetime(2010, 9, 20, 18, 36, 28, 23000), 'nothing'),\n",
       " (datetime.datetime(2010, 9, 20, 19, 4, 13, 587000), 'nothing'),\n",
       " (datetime.datetime(2010, 9, 21, 2, 7, 51, 100000), 'nothing'),\n",
       " (datetime.datetime(2010, 9, 21, 7, 33, 58, 707000), 'nothing')]"
      ]
     },
     "execution_count": 13,
     "metadata": {},
     "output_type": "execute_result"
    }
   ],
   "source": [
    "d3.take(5)"
   ]
  },
  {
   "cell_type": "code",
   "execution_count": 14,
   "id": "2c96c27a",
   "metadata": {},
   "outputs": [],
   "source": [
    "#Отсеиваем те, где в тэгах не упоминается название языка\n",
    "d4=d3.filter(lambda row: row[1]!='nothing')"
   ]
  },
  {
   "cell_type": "code",
   "execution_count": 15,
   "id": "7bac66c9",
   "metadata": {},
   "outputs": [
    {
     "data": {
      "text/plain": [
       "[(datetime.datetime(2010, 9, 23, 12, 13, 59, 443000), 'Java'),\n",
       " (datetime.datetime(2010, 9, 26, 17, 7, 4, 840000), 'PHP'),\n",
       " (datetime.datetime(2010, 9, 30, 18, 27, 56, 320000), 'Ruby'),\n",
       " (datetime.datetime(2010, 10, 1, 11, 52, 42, 210000), 'C'),\n",
       " (datetime.datetime(2010, 10, 4, 21, 5, 50, 150000), 'PHP')]"
      ]
     },
     "execution_count": 15,
     "metadata": {},
     "output_type": "execute_result"
    }
   ],
   "source": [
    "d4.take(5)"
   ]
  },
  {
   "cell_type": "code",
   "execution_count": 16,
   "id": "d7d6855f",
   "metadata": {},
   "outputs": [],
   "source": [
    "#группируем по году и названию. А затем считаем количество упоминаний\n",
    "d5=d4.keyBy(lambda row: (row[0].year,row[1])).aggregateByKey(\n",
    "        0,\n",
    "        lambda acc, value: acc + 1,\n",
    "        lambda acc1, acc2: acc1 + acc2,\n",
    "    )"
   ]
  },
  {
   "cell_type": "code",
   "execution_count": 17,
   "id": "2cdb6f0d",
   "metadata": {},
   "outputs": [
    {
     "data": {
      "text/plain": [
       "[((2010, 'Python'), 25),\n",
       " ((2010, 'JavaScript'), 44),\n",
       " ((2010, 'R'), 3),\n",
       " ((2011, 'Objective-C'), 33),\n",
       " ((2011, 'JavaScript'), 82)]"
      ]
     },
     "execution_count": 17,
     "metadata": {},
     "output_type": "execute_result"
    }
   ],
   "source": [
    "d5.take(5)"
   ]
  },
  {
   "cell_type": "code",
   "execution_count": 18,
   "id": "2002f044",
   "metadata": {},
   "outputs": [],
   "source": [
    "#Сортируем по убыванию количества упоминаний\n",
    "d6=d5.sortBy(lambda row: row[1], ascending=False)"
   ]
  },
  {
   "cell_type": "code",
   "execution_count": 19,
   "id": "f2abdab3",
   "metadata": {},
   "outputs": [
    {
     "data": {
      "text/plain": [
       "[((2016, 'JavaScript'), 272),\n",
       " ((2015, 'JavaScript'), 270),\n",
       " ((2017, 'JavaScript'), 244),\n",
       " ((2014, 'JavaScript'), 235),\n",
       " ((2014, 'Java'), 228),\n",
       " ((2018, 'Python'), 214),\n",
       " ((2015, 'Java'), 208),\n",
       " ((2017, 'Java'), 204),\n",
       " ((2013, 'JavaScript'), 196),\n",
       " ((2018, 'JavaScript'), 196)]"
      ]
     },
     "execution_count": 19,
     "metadata": {},
     "output_type": "execute_result"
    }
   ],
   "source": [
    "d6.take(10)"
   ]
  },
  {
   "cell_type": "code",
   "execution_count": 20,
   "id": "6465bf6d",
   "metadata": {},
   "outputs": [
    {
     "data": {
      "text/plain": [
       "[((2019, 'Python'), 162),\n",
       " ((2019, 'JavaScript'), 131),\n",
       " ((2019, 'Java'), 95),\n",
       " ((2019, 'PHP'), 59),\n",
       " ((2019, 'R'), 36),\n",
       " ((2019, 'C'), 14),\n",
       " ((2019, 'Go'), 9),\n",
       " ((2019, 'Dart'), 9),\n",
       " ((2019, 'MATLAB'), 9),\n",
       " ((2019, 'Ruby'), 8)]"
      ]
     },
     "execution_count": 20,
     "metadata": {},
     "output_type": "execute_result"
    }
   ],
   "source": [
    "#Сортируем по годам\n",
    "d7=d6.sortBy(lambda row: row[0][0], ascending=False)\n",
    "d7.take(10)"
   ]
  },
  {
   "cell_type": "code",
   "execution_count": null,
   "id": "d9a2e512",
   "metadata": {},
   "outputs": [],
   "source": []
  },
  {
   "cell_type": "code",
   "execution_count": 21,
   "id": "416d6df1",
   "metadata": {},
   "outputs": [
    {
     "data": {
      "text/plain": [
       "[[2019, 'Python', 162, 1],\n",
       " [2019, 'JavaScript', 131, 2],\n",
       " [2019, 'Java', 95, 3],\n",
       " [2019, 'PHP', 59, 4],\n",
       " [2019, 'R', 36, 5],\n",
       " [2019, 'C', 14, 6],\n",
       " [2019, 'Go', 9, 7],\n",
       " [2019, 'Dart', 9, 8],\n",
       " [2019, 'MATLAB', 9, 9],\n",
       " [2019, 'Ruby', 8, 10]]"
      ]
     },
     "execution_count": 21,
     "metadata": {},
     "output_type": "execute_result"
    }
   ],
   "source": [
    "#Теперь я хочу избавиться от сдвоенного ключа, и добавить столбец с удобной нумерацией,\n",
    "#которая для каждого года начинается с начала\n",
    "#Поэтому подготовлю данные и потом создам новый DataFrame\n",
    "prname=[]\n",
    "prname2=[]\n",
    "prname3=[]\n",
    "prname4=[]\n",
    "\n",
    "tsr=100000\n",
    "k=1\n",
    "\n",
    "for x in d7.collect():\n",
    "    prname.append(x[0])\n",
    "    prname3.append(int(x[1]))\n",
    "\n",
    "for x in prname:\n",
    "    prname2.append([x[0],x[1]])\n",
    "    \n",
    "for x1 in range(0,len(prname)-1):\n",
    "    t=prname3[x1]\n",
    "    if(tsr<t):\n",
    "        k=1\n",
    "    prname4.append([prname2[x1][0],prname2[x1][1],t,int(k)])\n",
    "    tsr=t\n",
    "    k=k+1\n",
    "prname4[0:10]"
   ]
  },
  {
   "cell_type": "code",
   "execution_count": null,
   "id": "7ec4882d",
   "metadata": {},
   "outputs": [],
   "source": []
  },
  {
   "cell_type": "code",
   "execution_count": 22,
   "id": "d401618f",
   "metadata": {},
   "outputs": [],
   "source": [
    "#создаем новый DataFrame\n",
    "from pyspark.sql import Row\n",
    "R = Row('Year','Name','Count','Number')\n",
    "new_DF=sc.createDataFrame([R(i,x,y,z) for i,x,y,z in (prname4)])\n"
   ]
  },
  {
   "cell_type": "code",
   "execution_count": 26,
   "id": "07da36fc",
   "metadata": {},
   "outputs": [
    {
     "name": "stdout",
     "output_type": "stream",
     "text": [
      "+----+-----------+-----+------+\n",
      "|Year|       Name|Count|Number|\n",
      "+----+-----------+-----+------+\n",
      "|2019|     Python|  162|     1|\n",
      "|2019| JavaScript|  131|     2|\n",
      "|2019|       Java|   95|     3|\n",
      "|2019|        PHP|   59|     4|\n",
      "|2019|          R|   36|     5|\n",
      "|2019|          C|   14|     6|\n",
      "|2019|         Go|    9|     7|\n",
      "|2019|       Dart|    9|     8|\n",
      "|2019|     MATLAB|    9|     9|\n",
      "|2019|       Ruby|    8|    10|\n",
      "|2019| PowerShell|    8|    11|\n",
      "|2019|       Bash|    8|    12|\n",
      "|2019|     Kotlin|    8|    13|\n",
      "|2019|      Scala|    6|    14|\n",
      "|2019| TypeScript|    6|    15|\n",
      "|2019|     Delphi|    4|    16|\n",
      "|2019|        AWK|    4|    17|\n",
      "|2019|       Curl|    3|    18|\n",
      "|2019|         F#|    3|    19|\n",
      "|2019|       Perl|    3|    20|\n",
      "|2019|      LaTeX|    2|    21|\n",
      "|2019|       Rust|    2|    22|\n",
      "|2019|     Prolog|    1|    23|\n",
      "|2019|    NetLogo|    1|    24|\n",
      "|2019|       NSIS|    1|    25|\n",
      "|2019|       NASM|    1|    26|\n",
      "|2019|      XPath|    1|    27|\n",
      "|2019|    Haskell|    1|    28|\n",
      "|2019|Objective-C|    1|    29|\n",
      "|2019|      Julia|    1|    30|\n",
      "|2019|    LabVIEW|    1|    31|\n",
      "|2019|      OCaml|    1|    32|\n",
      "|2018|     Python|  214|     1|\n",
      "|2018| JavaScript|  196|     2|\n",
      "|2018|       Java|  145|     3|\n",
      "|2018|        PHP|   99|     4|\n",
      "|2018|          R|   63|     5|\n",
      "|2018|          C|   24|     6|\n",
      "|2018|      Scala|   22|     7|\n",
      "|2018| TypeScript|   21|     8|\n",
      "+----+-----------+-----+------+\n",
      "only showing top 40 rows\n",
      "\n"
     ]
    }
   ],
   "source": [
    "#Выводим чтобы полюбоваться на то, что уже есть\n",
    "new_DF.show(40)"
   ]
  },
  {
   "cell_type": "code",
   "execution_count": null,
   "id": "60e15011",
   "metadata": {},
   "outputs": [],
   "source": []
  },
  {
   "cell_type": "code",
   "execution_count": 27,
   "id": "944e166e",
   "metadata": {},
   "outputs": [
    {
     "name": "stdout",
     "output_type": "stream",
     "text": [
      "+----+-----------+-----+\n",
      "|Year|       Name|Count|\n",
      "+----+-----------+-----+\n",
      "|2019|     Python|  162|\n",
      "|2019| JavaScript|  131|\n",
      "|2019|       Java|   95|\n",
      "|2019|        PHP|   59|\n",
      "|2019|          R|   36|\n",
      "|2019|          C|   14|\n",
      "|2019|         Go|    9|\n",
      "|2019|       Dart|    9|\n",
      "|2019|     MATLAB|    9|\n",
      "|2019|       Ruby|    8|\n",
      "|2018|     Python|  214|\n",
      "|2018| JavaScript|  196|\n",
      "|2018|       Java|  145|\n",
      "|2018|        PHP|   99|\n",
      "|2018|          R|   63|\n",
      "|2018|          C|   24|\n",
      "|2018|      Scala|   22|\n",
      "|2018| TypeScript|   21|\n",
      "|2018| PowerShell|   13|\n",
      "|2018|       Bash|   12|\n",
      "|2017| JavaScript|  244|\n",
      "|2017|       Java|  204|\n",
      "|2017|     Python|  185|\n",
      "|2017|        PHP|  122|\n",
      "|2017|          R|   53|\n",
      "|2017|          C|   24|\n",
      "|2017|Objective-C|   19|\n",
      "|2017|       Ruby|   16|\n",
      "|2017| PowerShell|   14|\n",
      "|2017| TypeScript|   14|\n",
      "|2016| JavaScript|  272|\n",
      "|2016|       Java|  179|\n",
      "|2016|     Python|  141|\n",
      "|2016|        PHP|  126|\n",
      "|2016|          R|   50|\n",
      "|2016|          C|   32|\n",
      "|2016|       Ruby|   21|\n",
      "|2016|      Scala|   16|\n",
      "|2016|       Bash|   16|\n",
      "|2016|     MATLAB|   15|\n",
      "|2015| JavaScript|  270|\n",
      "|2015|       Java|  208|\n",
      "|2015|        PHP|  147|\n",
      "|2015|     Python|  119|\n",
      "|2015|          R|   43|\n",
      "|2015|          C|   38|\n",
      "|2015|Objective-C|   30|\n",
      "|2015|       Ruby|   21|\n",
      "|2015|     MATLAB|   16|\n",
      "|2015|      Scala|   13|\n",
      "|2014| JavaScript|  235|\n",
      "|2014|       Java|  228|\n",
      "|2014|        PHP|  154|\n",
      "|2014|     Python|  103|\n",
      "|2014|          C|   52|\n",
      "|2014|Objective-C|   49|\n",
      "|2014|          R|   28|\n",
      "|2014|       Ruby|   20|\n",
      "|2014|     MATLAB|   16|\n",
      "|2014|       Bash|   13|\n",
      "|2013| JavaScript|  196|\n",
      "|2013|       Java|  191|\n",
      "|2013|        PHP|  173|\n",
      "|2013|     Python|   87|\n",
      "|2013|Objective-C|   40|\n",
      "|2013|          C|   36|\n",
      "|2013|       Ruby|   30|\n",
      "|2013|          R|   25|\n",
      "|2013|       Bash|   11|\n",
      "|2013|      Scala|   10|\n",
      "|2012|        PHP|  136|\n",
      "|2012| JavaScript|  129|\n",
      "|2012|       Java|  124|\n",
      "|2012|     Python|   65|\n",
      "|2012|Objective-C|   45|\n",
      "|2012|          C|   27|\n",
      "|2012|       Ruby|   25|\n",
      "|2012|       Bash|    9|\n",
      "|2012|          R|    9|\n",
      "|2012|     MATLAB|    6|\n",
      "|2011|        PHP|   97|\n",
      "|2011|       Java|   92|\n",
      "|2011| JavaScript|   82|\n",
      "|2011|     Python|   35|\n",
      "|2011|Objective-C|   33|\n",
      "|2011|          C|   24|\n",
      "|2011|       Ruby|   17|\n",
      "|2011|     Delphi|    8|\n",
      "|2011|       Perl|    8|\n",
      "|2011|       Bash|    7|\n",
      "|2010|       Java|   52|\n",
      "|2010| JavaScript|   44|\n",
      "|2010|        PHP|   42|\n",
      "|2010|     Python|   25|\n",
      "|2010|Objective-C|   23|\n",
      "|2010|          C|   20|\n",
      "|2010|       Ruby|   11|\n",
      "|2010|     Delphi|    7|\n",
      "|2010|          R|    3|\n",
      "|2010|       Perl|    3|\n",
      "+----+-----------+-----+\n",
      "\n"
     ]
    }
   ],
   "source": [
    "#Выбираем топ 10 языков для каждого года\n",
    "new_DF.createOrReplaceTempView(\"Table\")\n",
    "top_10 = sc.sql(\"SELECT Year,Name,Count FROM Table WHERE Number<=10 \")\n",
    "top_10.show(top_10.count())"
   ]
  },
  {
   "cell_type": "code",
   "execution_count": 28,
   "id": "6531217b",
   "metadata": {},
   "outputs": [],
   "source": [
    "#И сохраняем отчёт в формате Apache Parquet.\n",
    "top_10.write.parquet(\"top_10_lang.parquet\")"
   ]
  },
  {
   "cell_type": "code",
   "execution_count": null,
   "id": "85268668",
   "metadata": {},
   "outputs": [],
   "source": []
  }
 ],
 "metadata": {
  "kernelspec": {
   "display_name": "Python 3",
   "language": "python",
   "name": "python3"
  },
  "language_info": {
   "codemirror_mode": {
    "name": "ipython",
    "version": 3
   },
   "file_extension": ".py",
   "mimetype": "text/x-python",
   "name": "python",
   "nbconvert_exporter": "python",
   "pygments_lexer": "ipython3",
   "version": "3.6.9"
  }
 },
 "nbformat": 4,
 "nbformat_minor": 5
}
